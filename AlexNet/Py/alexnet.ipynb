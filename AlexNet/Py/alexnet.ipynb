{
 "cells": [
  {
   "cell_type": "code",
   "execution_count": null,
   "id": "b8a780ff",
   "metadata": {},
   "outputs": [],
   "source": [
    "# Refrences:\n",
    "#  + https://github.com/keshav1245/Image-Classification-using-AlexNet-CNN-Model/blob/master/AlexNet_Classification.md\n",
    "#  + https://medium.com/analytics-vidhya/multi-class-image-classification-using-alexnet-deep-learning-network-implemented-in-keras-api-c9ae7bc4c05f\n",
    "# "
   ]
  },
  {
   "cell_type": "code",
   "execution_count": null,
   "id": "78b26c19",
   "metadata": {},
   "outputs": [],
   "source": [
    "import numpy as np\n",
    "from keras import layers\n",
    "from keras.layers import Input, Dense, Activation, BatchNormalization, Flatten, Conv2D, MaxPooling2D\n",
    "from keras.models import Model\n",
    "from keras.preprocessing import image\n",
    "from keras.preprocessing.image import ImageDataGenerator\n",
    "import keras.backend as K\n",
    "K.set_image_data_format('channels_last')\n",
    "import matplotlib.pyplot as plt\n",
    "from matplotlib.pyplot import imshow\n",
    "\n"
   ]
  },
  {
   "cell_type": "code",
   "execution_count": null,
   "id": "182d2da4",
   "metadata": {
    "scrolled": true
   },
   "outputs": [],
   "source": [
    "path = './data/seg_train'\n",
    "train_datagen = ImageDataGenerator(rescale=1. / 255)\n",
    "train = train_datagen.flow_from_directory(path, target_size=(227,227), class_mode='categorical')"
   ]
  },
  {
   "cell_type": "code",
   "execution_count": null,
   "id": "3d4891d3",
   "metadata": {},
   "outputs": [],
   "source": [
    "type(train)\n"
   ]
  },
  {
   "cell_type": "code",
   "execution_count": null,
   "id": "8e73ede2",
   "metadata": {},
   "outputs": [],
   "source": [
    "type(train_datagen)"
   ]
  },
  {
   "cell_type": "code",
   "execution_count": null,
   "id": "419acf2e",
   "metadata": {},
   "outputs": [],
   "source": [
    "print(\"Batch Size for Input Image : \",train[0][0].shape)\n",
    "print(\"Batch Size for Output Image : \",train[0][1].shape)\n",
    "print(\"Image Size of first image : \",train[0][0][0].shape)\n",
    "print(\"Output of first image : \",train[0][1][0].shape)"
   ]
  },
  {
   "cell_type": "code",
   "execution_count": null,
   "id": "8da25aef",
   "metadata": {},
   "outputs": [],
   "source": [
    "fig , axs = plt.subplots(2,3 ,figsize = (10,10))\n",
    "axs[0][0].imshow(train[0][0][12])\n",
    "axs[0][0].set_title(train[0][1][12])\n",
    "axs[0][1].imshow(train[0][0][10])\n",
    "axs[0][1].set_title(train[0][1][10])\n",
    "axs[0][2].imshow(train[0][0][5])\n",
    "axs[0][2].set_title(train[0][1][5])\n",
    "axs[1][0].imshow(train[0][0][20])\n",
    "axs[1][0].set_title(train[0][1][20])\n",
    "axs[1][1].imshow(train[0][0][25])\n",
    "axs[1][1].set_title(train[0][1][25])\n",
    "axs[1][2].imshow(train[0][0][3])\n",
    "axs[1][2].set_title(train[0][1][3])\n"
   ]
  },
  {
   "cell_type": "code",
   "execution_count": null,
   "id": "02f28c16",
   "metadata": {},
   "outputs": [],
   "source": [
    "def AlexNet(input_shape):\n",
    "    \n",
    "    X_input = Input(input_shape)\n",
    "    \n",
    "    X = Conv2D(96,(11,11),strides = 4,name=\"conv0\")(X_input)\n",
    "    X = BatchNormalization(axis = 3 , name = \"bn0\")(X)\n",
    "    X = Activation('relu')(X)\n",
    "    \n",
    "    X = MaxPooling2D((3,3),strides = 2,name = 'max0')(X)\n",
    "    \n",
    "    X = Conv2D(256,(5,5),padding = 'same' , name = 'conv1')(X)\n",
    "    X = BatchNormalization(axis = 3 ,name='bn1')(X)\n",
    "    X = Activation('relu')(X)\n",
    "    \n",
    "    X = MaxPooling2D((3,3),strides = 2,name = 'max1')(X)\n",
    "    \n",
    "    X = Conv2D(384, (3,3) , padding = 'same' , name='conv2')(X)\n",
    "    X = BatchNormalization(axis = 3, name = 'bn2')(X)\n",
    "    X = Activation('relu')(X)\n",
    "    \n",
    "    X = Conv2D(384, (3,3) , padding = 'same' , name='conv3')(X)\n",
    "    X = BatchNormalization(axis = 3, name = 'bn3')(X)\n",
    "    X = Activation('relu')(X)\n",
    "    \n",
    "    X = Conv2D(256, (3,3) , padding = 'same' , name='conv4')(X)\n",
    "    X = BatchNormalization(axis = 3, name = 'bn4')(X)\n",
    "    X = Activation('relu')(X)\n",
    "    \n",
    "    X = MaxPooling2D((3,3),strides = 2,name = 'max2')(X)\n",
    "    \n",
    "    X = Flatten()(X)\n",
    "    \n",
    "    X = Dense(4096, activation = 'relu', name = \"fc0\")(X)\n",
    "    \n",
    "    X = Dense(4096, activation = 'relu', name = 'fc1')(X) \n",
    "    \n",
    "    X = Dense(6,activation='softmax',name = 'fc2')(X)\n",
    "    \n",
    "    model = Model(inputs = X_input, outputs = X, name='AlexNet')\n",
    "    return model"
   ]
  },
  {
   "cell_type": "code",
   "execution_count": null,
   "id": "670d1b4e",
   "metadata": {},
   "outputs": [],
   "source": [
    "#train the model\n",
    "alex = AlexNet(train[0][0].shape[1:])"
   ]
  },
  {
   "cell_type": "code",
   "execution_count": null,
   "id": "c7b00422",
   "metadata": {},
   "outputs": [],
   "source": [
    "#get summary of model\n",
    "alex.summary()"
   ]
  },
  {
   "cell_type": "code",
   "execution_count": null,
   "id": "ab02126e",
   "metadata": {},
   "outputs": [],
   "source": [
    "alex.compile(optimizer = 'adam' , loss = 'categorical_crossentropy' , metrics=['accuracy'])"
   ]
  },
  {
   "cell_type": "code",
   "execution_count": null,
   "id": "0b41c636",
   "metadata": {},
   "outputs": [],
   "source": [
    "alex.fit_generator(train,epochs=50)"
   ]
  },
  {
   "cell_type": "code",
   "execution_count": null,
   "id": "9f60d890",
   "metadata": {},
   "outputs": [],
   "source": [
    "# predict\n",
    "path_test = './data/seg_test'\n",
    "test_datagen = ImageDataGenerator(rescale=1. / 255)\n",
    "test = test_datagen.flow_from_directory(path_test, target_size=(227,227), class_mode='categorical')"
   ]
  },
  {
   "cell_type": "code",
   "execution_count": null,
   "id": "ce526474",
   "metadata": {},
   "outputs": [],
   "source": [
    "# evaluate our model on test data\n",
    "preds = alex.evaluate_generator(test)\n",
    "print (\"Loss = \" + str(preds[0]))\n",
    "print (\"Test Accuracy = \" + str(preds[1]))"
   ]
  },
  {
   "cell_type": "code",
   "execution_count": null,
   "id": "a35a6ca7",
   "metadata": {},
   "outputs": [],
   "source": [
    "# run the model over prediction Images\n",
    "path_test = './data/seg_pred'\n",
    "predict_datagen = ImageDataGenerator(rescale=1. / 255)\n",
    "predict = predict_datagen.flow_from_directory(path_test, target_size=(227,227), batch_size = 1,class_mode='categorical')"
   ]
  },
  {
   "cell_type": "code",
   "execution_count": null,
   "id": "e9e8f6a0",
   "metadata": {},
   "outputs": [],
   "source": [
    "# Run the predict_generator on it\n",
    "predictions = alex.predict_generator(predict)"
   ]
  },
  {
   "cell_type": "code",
   "execution_count": null,
   "id": "6c592b31",
   "metadata": {},
   "outputs": [],
   "source": [
    "# test out some predicted images\n",
    "imshow(predict[700][0][0])"
   ]
  },
  {
   "cell_type": "code",
   "execution_count": null,
   "id": "66b88771",
   "metadata": {},
   "outputs": [],
   "source": [
    "print(predictions[700])"
   ]
  },
  {
   "cell_type": "code",
   "execution_count": null,
   "id": "6b798119",
   "metadata": {},
   "outputs": [],
   "source": [
    "# Now we don’t want to have this to be our output format, so we will make a function that will give us the category to which the Input Image, predicted by the model will belong to.\n",
    "import os \n",
    "def get_category(predicted_output):\n",
    "    path = \"./data/seg_train\"\n",
    "    return os.listdir(path)[np.argmax(abc)]"
   ]
  },
  {
   "cell_type": "code",
   "execution_count": null,
   "id": "ff4cab9b",
   "metadata": {},
   "outputs": [],
   "source": [
    "print(get_category(predictions[700]))"
   ]
  },
  {
   "cell_type": "code",
   "execution_count": null,
   "id": "e418dd05",
   "metadata": {},
   "outputs": [],
   "source": [
    "# output of some other images are shown below :\n",
    "fig , axs = plt.subplots(2,3 ,figsize = (10,10))\n",
    "axs[0][0].imshow(predict[1002][0][0])\n",
    "axs[0][0].set_title(get_category(predictions[1002]))\n",
    "axs[0][1].imshow(predict[22][0][0])\n",
    "axs[0][1].set_title(get_category(predictions[22]))\n",
    "axs[0][2].imshow(predict[1300][0][0])\n",
    "axs[0][2].set_title(get_category(predictions[1300]))\n",
    "axs[1][0].imshow(predict[3300][0][0])\n",
    "axs[1][0].set_title(get_category(predictions[3300]))\n",
    "axs[1][1].imshow(predict[7002][0][0])\n",
    "axs[1][1].set_title(get_category(predictions[7002]))\n",
    "axs[1][2].imshow(predict[512][0][0])\n",
    "axs[1][2].set_title(get_category(predictions[512]))"
   ]
  },
  {
   "cell_type": "code",
   "execution_count": null,
   "id": "8ded772c",
   "metadata": {},
   "outputs": [],
   "source": []
  }
 ],
 "metadata": {
  "kernelspec": {
   "display_name": "Python 3",
   "language": "python",
   "name": "python3"
  },
  "language_info": {
   "codemirror_mode": {
    "name": "ipython",
    "version": 3
   },
   "file_extension": ".py",
   "mimetype": "text/x-python",
   "name": "python",
   "nbconvert_exporter": "python",
   "pygments_lexer": "ipython3",
   "version": "3.9.4"
  }
 },
 "nbformat": 4,
 "nbformat_minor": 5
}
